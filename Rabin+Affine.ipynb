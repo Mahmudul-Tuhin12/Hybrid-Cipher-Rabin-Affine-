{
  "cells": [
    {
      "cell_type": "markdown",
      "metadata": {
        "id": "kDn_lVxg3Z2G"
      },
      "source": [
        "# Importing a library that is not in Colaboratory\n",
        "\n",
        "To import a library that's not in Colaboratory by default, you can use `!pip install` or `!apt-get install`."
      ]
    },
    {
      "cell_type": "code",
      "source": [
        "import random\n",
        "from Crypto.Util import number\n",
        "from math import gcd\n",
        "\n",
        "class RabinCryptosystem:\n",
        "    @staticmethod\n",
        "    def generate_key(bit_length):\n",
        "        def blum_prime(bit_length):\n",
        "            while True:\n",
        "                p = number.getPrime(bit_length)\n",
        "                if p % 4 == 3:\n",
        "                    return p\n",
        "\n",
        "        p = blum_prime(bit_length // 2)\n",
        "        q = blum_prime(bit_length // 2)\n",
        "        n = p * q\n",
        "        return n, p, q\n",
        "\n",
        "    @staticmethod\n",
        "    def encrypt_rabin(m, n):\n",
        "        return pow(m, 2, n)\n",
        "\n",
        "    @staticmethod\n",
        "    def decrypt_rabin(c, p, q):\n",
        "        def extended_gcd(a, b):\n",
        "            if b == 0:\n",
        "                return a, 1, 0\n",
        "            gcd, x1, y1 = extended_gcd(b, a % b)\n",
        "            x = y1\n",
        "            y = x1 - (a // b) * y1\n",
        "            return gcd, x, y\n",
        "\n",
        "        n = p * q\n",
        "\n",
        "        # Compute the square roots modulo p and q\n",
        "        mp = pow(c, (p + 1) // 4, p)\n",
        "        mq = pow(c, (q + 1) // 4, q)\n",
        "\n",
        "        # Use the extended Euclidean algorithm to find yp and yq\n",
        "        gcd, yp, yq = extended_gcd(p, q)\n",
        "\n",
        "        # Compute the four possible plaintexts\n",
        "        r1 = (yp * p * mq + yq * q * mp) % n\n",
        "        r2 = (yp * p * mq - yq * q * mp) % n\n",
        "        r3 = n - r1\n",
        "        r4 = n - r2\n",
        "\n",
        "        return [r1, r2, r3, r4]\n",
        "\n",
        "class AffineCipher:\n",
        "    @staticmethod\n",
        "    def mod_inverse(a, m):\n",
        "        a = a % m\n",
        "        for x in range(1, m):\n",
        "            if (a * x) % m == 1:\n",
        "                return x\n",
        "        return None\n",
        "\n",
        "    @staticmethod\n",
        "    def encrypt_affine(text, a, b):\n",
        "        if gcd(a, 26) != 1:\n",
        "            raise ValueError(\"Key 'a' must be coprime with 26.\")\n",
        "        cipher = ''\n",
        "        for char in text:\n",
        "            if char.isalpha():\n",
        "                offset = 65 if char.isupper() else 97\n",
        "                cipher += chr(((a * (ord(char) - offset) + b) % 26) + offset)\n",
        "            else:\n",
        "                cipher += char\n",
        "        return cipher\n",
        "\n",
        "    @staticmethod\n",
        "    def decrypt_affine(cipher, a, b):\n",
        "        a_inv = AffineCipher.mod_inverse(a, 26)\n",
        "        if a_inv is None:\n",
        "            raise ValueError(\"Modular inverse for 'a' does not exist.\")\n",
        "        text = ''\n",
        "        for char in cipher:\n",
        "            if char.isalpha():\n",
        "                offset = 65 if char.isupper() else 97\n",
        "                text += chr(((a_inv * ((ord(char) - offset) - b)) % 26) + offset)\n",
        "            else:\n",
        "                text += char\n",
        "        return text\n",
        "\n",
        "if __name__ == \"__main__\":\n",
        "    bit_length = 512\n",
        "    n, p, q = RabinCryptosystem.generate_key(bit_length)\n",
        "\n",
        "    # Take input from user for Affine Cipher keys\n",
        "    print(\"Affine Cipher Encryption\")\n",
        "    a = int(input(\"Enter key 'a' (must be coprime with 26): \"))\n",
        "    b = int(input(\"Enter key 'b': \"))\n",
        "\n",
        "    # Input message\n",
        "    message = input(\"Enter the message to encrypt: \")\n",
        "    print(f\"Message sent by sender: {message}\")\n",
        "\n",
        "    # Step 1: Encrypt with Affine Cipher\n",
        "    affine_encrypted = AffineCipher.encrypt_affine(message, a, b)\n",
        "    print(f\"Affine Encrypted Message: {affine_encrypted}\")\n",
        "\n",
        "    # Step 2: Convert Affine Cipher output to integer and encrypt with Rabin\n",
        "    m = int.from_bytes(affine_encrypted.encode('ascii'), byteorder='big')\n",
        "    rabin_encrypted = RabinCryptosystem.encrypt_rabin(m, n)\n",
        "    print(f\"Rabin Encrypted Message: {rabin_encrypted}\")\n",
        "\n",
        "    # Step 3: Decrypt with Rabin Cryptosystem\n",
        "    rabin_decrypted_candidates = RabinCryptosystem.decrypt_rabin(rabin_encrypted, p, q)\n",
        "\n",
        "    final_affine_message = None\n",
        "    for candidate in rabin_decrypted_candidates:\n",
        "        try:\n",
        "            candidate_message = candidate.to_bytes((candidate.bit_length() + 7) // 8, byteorder='big').decode('ascii')\n",
        "            # Step 4: Decrypt with Affine Cipher\n",
        "            decrypted_message = AffineCipher.decrypt_affine(candidate_message, a, b)\n",
        "            if decrypted_message == message:\n",
        "                final_affine_message = decrypted_message\n",
        "                break\n",
        "        except (ValueError, OverflowError):\n",
        "            continue\n",
        "\n",
        "    print(f\"Message received by Receiver: {final_affine_message}\")\n",
        "\n",
        "\n"
      ],
      "metadata": {
        "id": "2FNsFV9s2vcI",
        "outputId": "86c656cc-1b00-4e27-d77f-170c674955f5",
        "colab": {
          "base_uri": "https://localhost:8080/"
        }
      },
      "execution_count": null,
      "outputs": [
        {
          "output_type": "stream",
          "name": "stdout",
          "text": [
            "Affine Cipher Encryption\n",
            "Enter key 'a' (must be coprime with 26): 7\n",
            "Enter key 'b': 11\n",
            "Enter the message to encrypt: Hello\n",
            "Message sent by sender: Hello\n",
            "Affine Encrypted Message: Inkkf\n",
            "Rabin Encrypted Message: 99467790452426158533796\n",
            "Message received by Receiver: Hello\n"
          ]
        }
      ]
    },
    {
      "cell_type": "code",
      "source": [
        "!pip install pycryptodome\n"
      ],
      "metadata": {
        "colab": {
          "base_uri": "https://localhost:8080/"
        },
        "id": "bz16PQTdgkty",
        "outputId": "3fe473cb-5f94-43aa-87c1-b65d13bfb4d9"
      },
      "execution_count": null,
      "outputs": [
        {
          "output_type": "stream",
          "name": "stdout",
          "text": [
            "Collecting pycryptodome\n",
            "  Downloading pycryptodome-3.21.0-cp36-abi3-manylinux_2_17_x86_64.manylinux2014_x86_64.whl.metadata (3.4 kB)\n",
            "Downloading pycryptodome-3.21.0-cp36-abi3-manylinux_2_17_x86_64.manylinux2014_x86_64.whl (2.3 MB)\n",
            "\u001b[2K   \u001b[90m━━━━━━━━━━━━━━━━━━━━━━━━━━━━━━━━━━━━━━━━\u001b[0m \u001b[32m2.3/2.3 MB\u001b[0m \u001b[31m16.3 MB/s\u001b[0m eta \u001b[36m0:00:00\u001b[0m\n",
            "\u001b[?25hInstalling collected packages: pycryptodome\n",
            "Successfully installed pycryptodome-3.21.0\n"
          ]
        }
      ]
    }
  ],
  "metadata": {
    "colab": {
      "provenance": [],
      "gpuType": "T4"
    },
    "kernelspec": {
      "display_name": "Python 3",
      "name": "python3"
    },
    "accelerator": "GPU"
  },
  "nbformat": 4,
  "nbformat_minor": 0
}
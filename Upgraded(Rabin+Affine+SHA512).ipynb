{
  "nbformat": 4,
  "nbformat_minor": 0,
  "metadata": {
    "colab": {
      "provenance": []
    },
    "kernelspec": {
      "name": "python3",
      "display_name": "Python 3"
    },
    "language_info": {
      "name": "python"
    }
  },
  "cells": [
    {
      "cell_type": "code",
      "execution_count": null,
      "metadata": {
        "colab": {
          "base_uri": "https://localhost:8080/"
        },
        "id": "u_KNbIRCjNe4",
        "outputId": "3b395afb-7009-44fa-afc5-d768acdb0836"
      },
      "outputs": [
        {
          "output_type": "stream",
          "name": "stdout",
          "text": [
            "Affine Cipher Encryption\n",
            "Enter key 'a' (must be coprime with 26): 7\n",
            "Enter key 'b': 11\n",
            "Enter a secret key for hashing: a\n",
            "Enter the message to encrypt: Hello\n",
            "Message sent by sender: Hello\n",
            "Hashed Message (SHA-512): ed830d14ebab50cd573d712ae50c6f5d6315d172c2540763797ef09538144bc24f71b6d2e8981badd058e0aa58db8ad654cfeb56586af54410f36636d2e62a82\n",
            "Affine Encrypted Message: Inkkf\n",
            "Rabin Encrypted Message: 99467790452426158533796\n",
            "Message received by Receiver: Hello\n"
          ]
        }
      ],
      "source": [
        "import random\n",
        "from Crypto.Util import number\n",
        "from math import gcd\n",
        "import hashlib\n",
        "\n",
        "class RabinCryptosystem:\n",
        "    @staticmethod\n",
        "    def generate_key(bit_length):\n",
        "        def blum_prime(bit_length):\n",
        "            while True:\n",
        "                p = number.getPrime(bit_length)\n",
        "                if p % 4 == 3:\n",
        "                    return p\n",
        "\n",
        "        p = blum_prime(bit_length // 2)\n",
        "        q = blum_prime(bit_length // 2)\n",
        "        n = p * q\n",
        "        return n, p, q\n",
        "\n",
        "    @staticmethod\n",
        "    def encrypt_rabin(m, n):\n",
        "        return pow(m, 2, n)\n",
        "\n",
        "    @staticmethod\n",
        "    def decrypt_rabin(c, p, q):\n",
        "        def extended_gcd(a, b):\n",
        "            if b == 0:\n",
        "                return a, 1, 0\n",
        "            gcd, x1, y1 = extended_gcd(b, a % b)\n",
        "            x = y1\n",
        "            y = x1 - (a // b) * y1\n",
        "            return gcd, x, y\n",
        "\n",
        "        n = p * q\n",
        "\n",
        "        # Compute the square roots modulo p and q\n",
        "        mp = pow(c, (p + 1) // 4, p)\n",
        "        mq = pow(c, (q + 1) // 4, q)\n",
        "\n",
        "        # Use the extended Euclidean algorithm to find yp and yq\n",
        "        gcd, yp, yq = extended_gcd(p, q)\n",
        "\n",
        "        # Compute the four possible plaintexts\n",
        "        r1 = (yp * p * mq + yq * q * mp) % n\n",
        "        r2 = (yp * p * mq - yq * q * mp) % n\n",
        "        r3 = n - r1\n",
        "        r4 = n - r2\n",
        "\n",
        "        return [r1, r2, r3, r4]\n",
        "\n",
        "class AffineCipher:\n",
        "    @staticmethod\n",
        "    def mod_inverse(a, m):\n",
        "        a = a % m\n",
        "        for x in range(1, m):\n",
        "            if (a * x) % m == 1:\n",
        "                return x\n",
        "        return None\n",
        "\n",
        "    @staticmethod\n",
        "    def encrypt_affine(text, a, b):\n",
        "        if gcd(a, 26) != 1:\n",
        "            raise ValueError(\"Key 'a' must be coprime with 26.\")\n",
        "        cipher = ''\n",
        "        for char in text:\n",
        "            if char.isalpha():\n",
        "                offset = 65 if char.isupper() else 97\n",
        "                cipher += chr(((a * (ord(char) - offset) + b) % 26) + offset)\n",
        "            else:\n",
        "                cipher += char\n",
        "        return cipher\n",
        "\n",
        "    @staticmethod\n",
        "    def decrypt_affine(cipher, a, b):\n",
        "        a_inv = AffineCipher.mod_inverse(a, 26)\n",
        "        if a_inv is None:\n",
        "            raise ValueError(\"Modular inverse for 'a' does not exist.\")\n",
        "        text = ''\n",
        "        for char in cipher:\n",
        "            if char.isalpha():\n",
        "                offset = 65 if char.isupper() else 97\n",
        "                text += chr(((a_inv * ((ord(char) - offset) - b)) % 26) + offset)\n",
        "            else:\n",
        "                text += char\n",
        "        return text\n",
        "\n",
        "class Hashing:\n",
        "    @staticmethod\n",
        "    def hash_message(message, key):\n",
        "        # Using SHA-512 for hashing\n",
        "        return hashlib.sha512((key + message).encode('ascii')).hexdigest()\n",
        "\n",
        "if __name__ == \"__main__\":\n",
        "    bit_length = 512\n",
        "    n, p, q = RabinCryptosystem.generate_key(bit_length)\n",
        "\n",
        "    # Take input from user for Affine Cipher keys\n",
        "    print(\"Affine Cipher Encryption\")\n",
        "    a = int(input(\"Enter key 'a' (must be coprime with 26): \"))\n",
        "    b = int(input(\"Enter key 'b': \"))\n",
        "    secret_key = input(\"Enter a secret key for hashing: \")\n",
        "\n",
        "    # Input message\n",
        "    message = input(\"Enter the message to encrypt: \")\n",
        "    print(f\"Message sent by sender: {message}\")\n",
        "\n",
        "    # Step 1: Hash the message\n",
        "    hashed_message = Hashing.hash_message(message, secret_key)\n",
        "    print(f\"Hashed Message (SHA-512): {hashed_message}\")\n",
        "\n",
        "    # Step 2: Encrypt with Affine Cipher\n",
        "    affine_encrypted = AffineCipher.encrypt_affine(message, a, b)\n",
        "    print(f\"Affine Encrypted Message: {affine_encrypted}\")\n",
        "\n",
        "    # Step 3: Convert Affine Cipher output to integer and encrypt with Rabin\n",
        "    m = int.from_bytes(affine_encrypted.encode('ascii'), byteorder='big')\n",
        "    rabin_encrypted = RabinCryptosystem.encrypt_rabin(m, n)\n",
        "    print(f\"Rabin Encrypted Message: {rabin_encrypted}\")\n",
        "\n",
        "    # Step 4: Decrypt with Rabin Cryptosystem\n",
        "    rabin_decrypted_candidates = RabinCryptosystem.decrypt_rabin(rabin_encrypted, p, q)\n",
        "\n",
        "    final_affine_message = None\n",
        "    for candidate in rabin_decrypted_candidates:\n",
        "        try:\n",
        "            candidate_message = candidate.to_bytes((candidate.bit_length() + 7) // 8, byteorder='big').decode('ascii')\n",
        "            # Step 5: Decrypt with Affine Cipher\n",
        "            decrypted_message = AffineCipher.decrypt_affine(candidate_message, a, b)\n",
        "            if Hashing.hash_message(decrypted_message, secret_key) == hashed_message:\n",
        "                final_affine_message = decrypted_message\n",
        "                break\n",
        "        except (ValueError, OverflowError):\n",
        "            continue\n",
        "\n",
        "    print(f\"Message received by Receiver(Decrypt): {final_affine_message}\")\n",
        "\n"
      ]
    },
    {
      "cell_type": "code",
      "source": [],
      "metadata": {
        "id": "HjEv1vNFlG4K"
      },
      "execution_count": null,
      "outputs": []
    },
    {
      "cell_type": "code",
      "source": [
        "!pip install pycryptodome\n"
      ],
      "metadata": {
        "colab": {
          "base_uri": "https://localhost:8080/"
        },
        "id": "bz16PQTdgkty",
        "outputId": "c1e26edf-aa3f-4bba-9c05-7c727696954d"
      },
      "execution_count": null,
      "outputs": [
        {
          "output_type": "stream",
          "name": "stdout",
          "text": [
            "Collecting pycryptodome\n",
            "  Downloading pycryptodome-3.21.0-cp36-abi3-manylinux_2_17_x86_64.manylinux2014_x86_64.whl.metadata (3.4 kB)\n",
            "Downloading pycryptodome-3.21.0-cp36-abi3-manylinux_2_17_x86_64.manylinux2014_x86_64.whl (2.3 MB)\n",
            "\u001b[2K   \u001b[90m━━━━━━━━━━━━━━━━━━━━━━━━━━━━━━━━━━━━━━━━\u001b[0m \u001b[32m2.3/2.3 MB\u001b[0m \u001b[31m22.7 MB/s\u001b[0m eta \u001b[36m0:00:00\u001b[0m\n",
            "\u001b[?25hInstalling collected packages: pycryptodome\n",
            "Successfully installed pycryptodome-3.21.0\n"
          ]
        }
      ]
    }
  ]
}